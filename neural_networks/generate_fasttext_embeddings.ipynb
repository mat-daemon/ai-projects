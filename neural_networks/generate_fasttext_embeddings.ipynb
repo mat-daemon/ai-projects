{
  "cells": [
    {
      "cell_type": "markdown",
      "metadata": {
        "id": "SiRkGBY8Yqa4"
      },
      "source": [
        "<h3>Download necessary package</h3>"
      ]
    },
    {
      "cell_type": "code",
      "execution_count": 15,
      "metadata": {
        "colab": {
          "base_uri": "https://localhost:8080/"
        },
        "id": "SSroN2kkYul4",
        "outputId": "9b6995f6-d6be-4acd-8b09-bcddcd50b9bb"
      },
      "outputs": [
        {
          "name": "stdout",
          "output_type": "stream",
          "text": [
            "Reading package lists... Done\n",
            "Building dependency tree       \n",
            "Reading state information... Done\n",
            "gzip is already the newest version (1.10-0ubuntu4.1).\n",
            "wget is already the newest version (1.20.3-1ubuntu2).\n",
            "0 upgraded, 0 newly installed, 0 to remove and 34 not upgraded.\n",
            "Looking in indexes: https://pypi.org/simple, https://us-python.pkg.dev/colab-wheels/public/simple/\n",
            "Requirement already satisfied: fasttext in /usr/local/lib/python3.10/dist-packages (0.9.2)\n",
            "Requirement already satisfied: numpy in /usr/local/lib/python3.10/dist-packages (1.22.4)\n",
            "Requirement already satisfied: pybind11>=2.2 in /usr/local/lib/python3.10/dist-packages (from fasttext) (2.10.4)\n",
            "Requirement already satisfied: setuptools>=0.7.0 in /usr/local/lib/python3.10/dist-packages (from fasttext) (67.7.2)\n"
          ]
        }
      ],
      "source": [
        "!sudo apt install wget gzip\n",
        "!pip install fasttext numpy"
      ]
    },
    {
      "cell_type": "markdown",
      "metadata": {
        "id": "54IdLhDWY5hX"
      },
      "source": [
        "<h3>Import module</h3>"
      ]
    },
    {
      "cell_type": "code",
      "execution_count": 16,
      "metadata": {
        "id": "e-mJqwfdY_dv"
      },
      "outputs": [],
      "source": [
        "import fasttext.util\n",
        "import numpy as np"
      ]
    },
    {
      "cell_type": "markdown",
      "metadata": {
        "id": "s-QPrL6SZA96"
      },
      "source": [
        "<h3>Download and unzip fastText model</h3>"
      ]
    },
    {
      "cell_type": "code",
      "execution_count": 6,
      "metadata": {
        "colab": {
          "base_uri": "https://localhost:8080/"
        },
        "id": "IpvIpv_Tb0Cw",
        "outputId": "8362d4c2-577f-4902-badf-48a963713a86"
      },
      "outputs": [
        {
          "name": "stdout",
          "output_type": "stream",
          "text": [
            "--2023-06-02 14:11:51--  https://dl.fbaipublicfiles.com/fasttext/vectors-crawl/cc.en.300.bin.gz\n",
            "Resolving dl.fbaipublicfiles.com (dl.fbaipublicfiles.com)... 108.157.162.83, 108.157.162.120, 108.157.162.108, ...\n",
            "Connecting to dl.fbaipublicfiles.com (dl.fbaipublicfiles.com)|108.157.162.83|:443... connected.\n",
            "HTTP request sent, awaiting response... 200 OK\n",
            "Length: 4503593528 (4.2G) [application/octet-stream]\n",
            "Saving to: ‘cc.en.300.bin.gz’\n",
            "\n",
            "cc.en.300.bin.gz    100%[===================>]   4.19G  88.6MB/s    in 36s     \n",
            "\n",
            "2023-06-02 14:12:27 (120 MB/s) - ‘cc.en.300.bin.gz’ saved [4503593528/4503593528]\n",
            "\n",
            "gzip: file.gz: No such file or directory\n"
          ]
        }
      ],
      "source": [
        "!wget -O cc.en.300.bin.gz https://dl.fbaipublicfiles.com/fasttext/vectors-crawl/cc.en.300.bin.gz"
      ]
    },
    {
      "cell_type": "markdown",
      "metadata": {
        "id": "M264_L40dEd3"
      },
      "source": [
        "<h3>Unzip previously downloaded model</h3>"
      ]
    },
    {
      "cell_type": "code",
      "execution_count": 8,
      "metadata": {
        "id": "EdHki7zgdJiW"
      },
      "outputs": [],
      "source": [
        "!gzip -d cc.en.300.bin.gz"
      ]
    },
    {
      "cell_type": "markdown",
      "metadata": {
        "id": "VUEz7VUMZIKS"
      },
      "source": [
        "<h3>Load model</h3>"
      ]
    },
    {
      "cell_type": "code",
      "execution_count": 10,
      "metadata": {
        "colab": {
          "base_uri": "https://localhost:8080/"
        },
        "id": "RBAFxfqxYmDb",
        "outputId": "2095a2ba-a6b4-4b3f-cec0-29d4bbb566b3"
      },
      "outputs": [
        {
          "name": "stderr",
          "output_type": "stream",
          "text": [
            "Warning : `load_model` does not return WordVectorModel or SupervisedModel any more, but a `FastText` object which is very similar.\n"
          ]
        }
      ],
      "source": [
        "model = fasttext.load_model('cc.en.300.bin')"
      ]
    },
    {
      "cell_type": "markdown",
      "metadata": {
        "id": "65qCZcPhZW01"
      },
      "source": [
        "<h3>Generate embeddings for the specified list of texts</h3>"
      ]
    },
    {
      "cell_type": "code",
      "execution_count": 17,
      "metadata": {
        "colab": {
          "base_uri": "https://localhost:8080/"
        },
        "id": "OseM-d65ZX6S",
        "outputId": "1886926a-1c58-49db-c790-f4844c9551c0"
      },
      "outputs": [
        {
          "data": {
            "text/plain": [
              "(2, 300)"
            ]
          },
          "execution_count": 17,
          "metadata": {},
          "output_type": "execute_result"
        }
      ],
      "source": [
        "texts_list = [\"Hello, my dog is cute.\", \"I love Artificial Intelligence. Machine Learning is my passion!\"]\n",
        "\n",
        "embeddings = np.array([model.get_sentence_vector(text) for text in texts_list])\n",
        "\n",
        "embeddings.shape"
      ]
    }
  ],
  "metadata": {
    "colab": {
      "provenance": []
    },
    "kernelspec": {
      "display_name": "venv",
      "language": "python",
      "name": "python3"
    },
    "language_info": {
      "name": "python",
      "version": "3.10.6"
    },
    "vscode": {
      "interpreter": {
        "hash": "571f844e43c255f56ae57b9170b1ef34d95c0c7a70f787c0e10c2400a7480a94"
      }
    }
  },
  "nbformat": 4,
  "nbformat_minor": 0
}
